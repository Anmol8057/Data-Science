{
 "cells": [
  {
   "cell_type": "markdown",
   "id": "feddea1d",
   "metadata": {},
   "source": [
    "# Importing Modules"
   ]
  },
  {
   "cell_type": "code",
   "execution_count": 22,
   "id": "b0fc5ee6",
   "metadata": {},
   "outputs": [],
   "source": [
    "import numpy as np\n",
    "import matplotlib.pyplot as plt\n",
    "import tensorflow as tf"
   ]
  },
  {
   "cell_type": "markdown",
   "id": "e9154b19",
   "metadata": {},
   "source": [
    "## Making Training Dataset with the help of Image Data Generator class"
   ]
  },
  {
   "cell_type": "markdown",
   "id": "a0bf9109",
   "metadata": {},
   "source": [
    "**Appyling some Data Augmentation for better training our model**"
   ]
  },
  {
   "cell_type": "code",
   "execution_count": 23,
   "id": "c8edb1f3",
   "metadata": {},
   "outputs": [],
   "source": [
    "training_generator = tf.keras.preprocessing.image.ImageDataGenerator(zoom_range=0.4,\n",
    "                                                                   horizontal_flip=True,\n",
    "                                                                   vertical_flip=True,\n",
    "                                                                   shear_range=0.2,\n",
    "                                                                   rotation_range=20,\n",
    "                                                                   rescale=1/255)"
   ]
  },
  {
   "cell_type": "code",
   "execution_count": 24,
   "id": "1ea0bb7d",
   "metadata": {
    "scrolled": true
   },
   "outputs": [
    {
     "name": "stdout",
     "output_type": "stream",
     "text": [
      "Found 1313 images belonging to 2 classes.\n"
     ]
    }
   ],
   "source": [
    "training = training_generator.flow_from_directory('Dataset/train',class_mode='binary',\n",
    "                                                 target_size=(150,150))"
   ]
  },
  {
   "cell_type": "markdown",
   "id": "edbbf584",
   "metadata": {},
   "source": [
    "## Making Testing Dataset with the help of Image Data Generator class"
   ]
  },
  {
   "cell_type": "code",
   "execution_count": 25,
   "id": "a4aa0e67",
   "metadata": {},
   "outputs": [],
   "source": [
    "testing_generator = tf.keras.preprocessing.image.ImageDataGenerator(rescale=1/255)"
   ]
  },
  {
   "cell_type": "code",
   "execution_count": 26,
   "id": "90b0fd36",
   "metadata": {},
   "outputs": [
    {
     "name": "stdout",
     "output_type": "stream",
     "text": [
      "Found 194 images belonging to 2 classes.\n"
     ]
    }
   ],
   "source": [
    "testing = testing_generator.flow_from_directory('Dataset/test',class_mode='binary',\n",
    "                                                 target_size=(150,150))"
   ]
  },
  {
   "cell_type": "markdown",
   "id": "1753957e",
   "metadata": {},
   "source": [
    "# Building CNN Layers for Feature Extraction"
   ]
  },
  {
   "cell_type": "code",
   "execution_count": 27,
   "id": "3a48fd75",
   "metadata": {},
   "outputs": [],
   "source": [
    "mask_model = tf.keras.models.Sequential()\n",
    "\n",
    "mask_model.add(tf.keras.layers.Conv2D(30,(5,5),activation='relu',input_shape=(150,150,3)))\n",
    "mask_model.add(tf.keras.layers.Conv2D(90,(4,4),activation='relu'))\n",
    "# This is Pooling Layer\n",
    "mask_model.add(tf.keras.layers.MaxPool2D((3,3)))\n",
    "\n",
    "mask_model.add(tf.keras.layers.Conv2D(120,(3,3),activation='relu'))\n",
    "# This is Pooling Layer\n",
    "mask_model.add(tf.keras.layers.MaxPool2D((2,2)))\n"
   ]
  },
  {
   "cell_type": "markdown",
   "id": "4cf26adf",
   "metadata": {},
   "source": [
    "### Flatting Our Image"
   ]
  },
  {
   "cell_type": "code",
   "execution_count": 28,
   "id": "6756c828",
   "metadata": {},
   "outputs": [],
   "source": [
    "mask_model.add(tf.keras.layers.Flatten())"
   ]
  },
  {
   "cell_type": "markdown",
   "id": "8e6a8dbd",
   "metadata": {},
   "source": [
    "# Giving to ANN"
   ]
  },
  {
   "cell_type": "code",
   "execution_count": 29,
   "id": "56354d11",
   "metadata": {},
   "outputs": [],
   "source": [
    "mask_model.add(tf.keras.layers.Dense(units=24,activation='relu'))\n",
    "mask_model.add(tf.keras.layers.Dense(units=24,activation='relu'))\n",
    "mask_model.add(tf.keras.layers.Dense(units=1,activation='sigmoid'))"
   ]
  },
  {
   "cell_type": "code",
   "execution_count": 30,
   "id": "62f18718",
   "metadata": {},
   "outputs": [],
   "source": [
    "mask_model.compile(optimizer='adam',loss='binary_crossentropy',metrics=['accuracy'])"
   ]
  },
  {
   "cell_type": "markdown",
   "id": "87fd1f97",
   "metadata": {},
   "source": [
    "# Training Our model"
   ]
  },
  {
   "cell_type": "code",
   "execution_count": 31,
   "id": "60d11450",
   "metadata": {},
   "outputs": [
    {
     "name": "stdout",
     "output_type": "stream",
     "text": [
      "Epoch 1/5\n",
      "42/42 [==============================] - 41s 960ms/step - loss: 0.7256 - accuracy: 0.4874 - val_loss: 0.6573 - val_accuracy: 0.5000\n",
      "Epoch 2/5\n",
      "42/42 [==============================] - 40s 938ms/step - loss: 0.6914 - accuracy: 0.5286 - val_loss: 0.6800 - val_accuracy: 0.6495\n",
      "Epoch 3/5\n",
      "42/42 [==============================] - 39s 935ms/step - loss: 0.6297 - accuracy: 0.6885 - val_loss: 0.5437 - val_accuracy: 0.7835\n",
      "Epoch 4/5\n",
      "42/42 [==============================] - 41s 968ms/step - loss: 0.2263 - accuracy: 0.9246 - val_loss: 0.1688 - val_accuracy: 0.9330\n",
      "Epoch 5/5\n",
      "42/42 [==============================] - 41s 980ms/step - loss: 0.1544 - accuracy: 0.9513 - val_loss: 0.1047 - val_accuracy: 0.9536\n"
     ]
    },
    {
     "data": {
      "text/plain": [
       "<keras.src.callbacks.History at 0x2285f6c10d0>"
      ]
     },
     "execution_count": 31,
     "metadata": {},
     "output_type": "execute_result"
    }
   ],
   "source": [
    "mask_model.fit(training,validation_data=testing,epochs=5)"
   ]
  },
  {
   "cell_type": "markdown",
   "id": "d89e78d7",
   "metadata": {},
   "source": [
    "## Storing the model's history"
   ]
  },
  {
   "cell_type": "code",
   "execution_count": 33,
   "id": "4bfa9ea5",
   "metadata": {},
   "outputs": [],
   "source": [
    "report = mask_model.history.history"
   ]
  },
  {
   "cell_type": "markdown",
   "id": "07f76cfd",
   "metadata": {},
   "source": [
    "## Ploting the losses of model"
   ]
  },
  {
   "cell_type": "code",
   "execution_count": 34,
   "id": "248996a1",
   "metadata": {},
   "outputs": [
    {
     "data": {
      "image/png": "[encoded data removed]",
      "text/plain": [
       "<Figure size 1300x700 with 1 Axes>"
      ]
     },
     "metadata": {},
     "output_type": "display_data"
    }
   ],
   "source": [
    "plt.figure(figsize=(13,7))\n",
    "plt.plot(range(1,6),report['loss'],label='Training')\n",
    "plt.plot(range(1,6),report['val_loss'],label='Testing')\n",
    "plt.legend()\n",
    "plt.title('Model Performance',size=20)\n",
    "plt.xlabel('No of Epochs')\n",
    "plt.ylabel('Loss')\n",
    "plt.show()"
   ]
  },
  {
   "cell_type": "markdown",
   "id": "815a8779",
   "metadata": {},
   "source": [
    "## Saving Our model"
   ]
  },
  {
   "cell_type": "code",
   "execution_count": 16,
   "id": "a1022da0",
   "metadata": {},
   "outputs": [
    {
     "name": "stderr",
     "output_type": "stream",
     "text": [
      "C:\\Users\\Sukh-e\\AppData\\Local\\Temp\\ipykernel_36176\\3417508704.py:1: UserWarning: You are saving your model as an HDF5 file via `model.save()`. This file format is considered legacy. We recommend using instead the native Keras format, e.g. `model.save('my_model.keras')`.\n",
      "  tf.keras.models.save_model(mask_model,'Face Detection Model.h5')\n"
     ]
    }
   ],
   "source": [
    "tf.keras.models.save_model(mask_model,'Face Detection Model.h5')"
   ]
  },
  {
   "cell_type": "code",
   "execution_count": null,
   "id": "cc6a3e3d",
   "metadata": {},
   "outputs": [],
   "source": []
  }
 ],
 "metadata": {
  "kernelspec": {
   "display_name": "Python 3 (ipykernel)",
   "language": "python",
   "name": "python3"
  },
  "language_info": {
   "codemirror_mode": {
    "name": "ipython",
    "version": 3
   },
   "file_extension": ".py",
   "mimetype": "text/x-python",
   "name": "python",
   "nbconvert_exporter": "python",
   "pygments_lexer": "ipython3",
   "version": "3.9.13"
  }
 },
 "nbformat": 4,
 "nbformat_minor": 5
}
