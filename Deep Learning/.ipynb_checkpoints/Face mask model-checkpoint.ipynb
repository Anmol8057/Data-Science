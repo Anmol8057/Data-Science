{
 "cells": [
  {
   "cell_type": "markdown",
   "id": "feddea1d",
   "metadata": {},
   "source": [
    "# Importing Modules"
   ]
  },
  {
   "cell_type": "code",
   "execution_count": 1,
   "id": "b0fc5ee6",
   "metadata": {},
   "outputs": [
    {
     "name": "stdout",
     "output_type": "stream",
     "text": [
      "WARNING:tensorflow:From C:\\Users\\Sukh-e\\anaconda3\\lib\\site-packages\\keras\\src\\losses.py:2976: The name tf.losses.sparse_softmax_cross_entropy is deprecated. Please use tf.compat.v1.losses.sparse_softmax_cross_entropy instead.\n",
      "\n"
     ]
    }
   ],
   "source": [
    "import numpy as np\n",
    "import matplotlib.pyplot as plt\n",
    "import tensorflow as tf"
   ]
  },
  {
   "cell_type": "markdown",
   "id": "e9154b19",
   "metadata": {},
   "source": [
    "## Making Training Dataset with the help of Image Data Generator class"
   ]
  },
  {
   "cell_type": "markdown",
   "id": "a0bf9109",
   "metadata": {},
   "source": [
    "**Appyling some Data Augmentation for better training our model**"
   ]
  },
  {
   "cell_type": "code",
   "execution_count": 2,
   "id": "c8edb1f3",
   "metadata": {},
   "outputs": [],
   "source": [
    "training_generator = tf.keras.preprocessing.image.ImageDataGenerator(zoom_range=0.4,\n",
    "                                                                   horizontal_flip=True,\n",
    "                                                                   vertical_flip=True,\n",
    "                                                                   shear_range=0.2,\n",
    "                                                                   rotation_range=20,\n",
    "                                                                   rescale=1/255)"
   ]
  },
  {
   "cell_type": "code",
   "execution_count": 3,
   "id": "1ea0bb7d",
   "metadata": {
    "scrolled": true
   },
   "outputs": [
    {
     "name": "stdout",
     "output_type": "stream",
     "text": [
      "Found 1313 images belonging to 2 classes.\n"
     ]
    }
   ],
   "source": [
    "training = training_generator.flow_from_directory('Dataset/train',class_mode='binary',\n",
    "                                                 target_size=(150,150))"
   ]
  },
  {
   "cell_type": "markdown",
   "id": "edbbf584",
   "metadata": {},
   "source": [
    "## Making Testing Dataset with the help of Image Data Generator class"
   ]
  },
  {
   "cell_type": "code",
   "execution_count": 4,
   "id": "a4aa0e67",
   "metadata": {},
   "outputs": [],
   "source": [
    "testing_generator = tf.keras.preprocessing.image.ImageDataGenerator(rescale=1/255)"
   ]
  },
  {
   "cell_type": "code",
   "execution_count": 5,
   "id": "90b0fd36",
   "metadata": {},
   "outputs": [
    {
     "name": "stdout",
     "output_type": "stream",
     "text": [
      "Found 194 images belonging to 2 classes.\n"
     ]
    }
   ],
   "source": [
    "testing = testing_generator.flow_from_directory('Dataset/test',class_mode='binary',\n",
    "                                                 target_size=(150,150))"
   ]
  },
  {
   "cell_type": "markdown",
   "id": "80240f11",
   "metadata": {},
   "source": [
    "# Building CNN Layers for Feature Extraction"
   ]
  },
  {
   "cell_type": "code",
   "execution_count": 6,
   "id": "2a4ba80b",
   "metadata": {},
   "outputs": [
    {
     "name": "stdout",
     "output_type": "stream",
     "text": [
      "WARNING:tensorflow:From C:\\Users\\Sukh-e\\anaconda3\\lib\\site-packages\\keras\\src\\backend.py:873: The name tf.get_default_graph is deprecated. Please use tf.compat.v1.get_default_graph instead.\n",
      "\n",
      "WARNING:tensorflow:From C:\\Users\\Sukh-e\\anaconda3\\lib\\site-packages\\keras\\src\\layers\\pooling\\max_pooling2d.py:161: The name tf.nn.max_pool is deprecated. Please use tf.nn.max_pool2d instead.\n",
      "\n"
     ]
    }
   ],
   "source": [
    "mask_model = tf.keras.models.Sequential()\n",
    "\n",
    "mask_model.add(tf.keras.layers.Conv2D(30,(5,5),activation='relu',input_shape=(150,150,3)))\n",
    "mask_model.add(tf.keras.layers.Conv2D(90,(4,4),activation='relu'))\n",
    "# This is Pooling Layer\n",
    "mask_model.add(tf.keras.layers.MaxPool2D((3,3)))\n",
    "\n",
    "mask_model.add(tf.keras.layers.Conv2D(120,(3,3),activation='relu'))\n",
    "# This is Pooling Layer\n",
    "mask_model.add(tf.keras.layers.MaxPool2D((2,2)))\n"
   ]
  },
  {
   "cell_type": "markdown",
   "id": "b3bd08fc",
   "metadata": {},
   "source": [
    "### Flatting Our Image"
   ]
  },
  {
   "cell_type": "code",
   "execution_count": null,
   "id": "a618fb47",
   "metadata": {},
   "outputs": [],
   "source": [
    "mask_model.add(tf.keras.layers.Flatten())"
   ]
  },
  {
   "cell_type": "markdown",
   "id": "6795dd4d",
   "metadata": {},
   "source": [
    "# Giving to ANN"
   ]
  },
  {
   "cell_type": "code",
   "execution_count": null,
   "id": "daa93776",
   "metadata": {},
   "outputs": [],
   "source": []
  }
 ],
 "metadata": {
  "kernelspec": {
   "display_name": "Python 3 (ipykernel)",
   "language": "python",
   "name": "python3"
  },
  "language_info": {
   "codemirror_mode": {
    "name": "ipython",
    "version": 3
   },
   "file_extension": ".py",
   "mimetype": "text/x-python",
   "name": "python",
   "nbconvert_exporter": "python",
   "pygments_lexer": "ipython3",
   "version": "3.9.13"
  }
 },
 "nbformat": 4,
 "nbformat_minor": 5
}
